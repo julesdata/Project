{
 "cells": [
  {
   "cell_type": "markdown",
   "metadata": {},
   "source": [
    "# B마트 인스타그램 데이터 분석을 통한 Q커머스 트렌드 조사 \n",
    "\n",
    "* 관심 키워드: 편의점, 편의점배달, 편의점신상\n",
    "* 편의점은 가장 자주, 간편하게 들리는 소매점이자, 다양한 신상품이 가득한 재밌는곳\n",
    "* 소비자들의 관심사가 어떻게 변화하는지, 비슷해보이는 편의점들 사이에서 소비자들의 인식은 어떻게 다른지 분석하여 제품 기획이나 시장전략을 세워보고자 함.  \n",
    "\n",
    "**그러나..**  \n",
    "\n",
    "* 인스타 '#편의점'태그 검색 시 78만건 이상조회되어 크롤링이 어려울 것으로 판단\n",
    "* 인스타 '#편의점신상' 검색 시 9.2만건 조회, organic아닌 광고인 경우가 많음"
   ]
  },
  {
   "cell_type": "markdown",
   "metadata": {},
   "source": [
    "* 편의점에서는 16년도부터 배달 서비스를 시작 했고, 배달의 민족이 B마트 (지역별로 물류창고를 배치하고 자사 라이더를 통해 초소량 생필품을 30분~1시간 안에 배달 해주는 서비스)를 19년 말 출시한 뒤 1년만에 기존 편의점 배달시장의 50%를 장악\n",
    "* B마트 검색시 게시물 5000여개로 크롤링에 적절해 보임\n",
    "* 마켓컬리/쿠팡/SSG등 이커머스 기업과도 유사한 면이 있으나, 배송에 하루 이상이 걸리므로, 오프라인 편의점 배달서비스와 같이 퀵커머스로 분류 가능하다고 판단\n",
    "\n",
    "* 관련기사: [배달의민족 ‘B마트’ 개시후 편의점 배달매출 반토막](https://www.donga.com/news/Economy/article/all/20201007/103296268/1)\n",
    "* 관련기사: [논란의 'B마트', '배달의민족'보다 더 무섭게 성장했다](https://n.news.naver.com/article/293/0000034105)  \n",
    "  \n",
    "* B마트의 어떤점이 소비자들을 hooking했고, 다른 경쟁업체가 보완해야할 부분은 무엇일지 보고자 함"
   ]
  },
  {
   "cell_type": "code",
   "execution_count": 4,
   "metadata": {},
   "outputs": [],
   "source": [
    "import requests\n",
    "from bs4 import BeautifulSoup as bs\n",
    "# import pymysql\n",
    "from  selenium import webdriver\n",
    "from selenium.webdriver.common.keys import Keys\n",
    "import time as time\n",
    "import getpass\n",
    "import urllib.request\n",
    "import random\n",
    " \n",
    " \n",
    "from time import sleep\n",
    " \n",
    "import pandas as pd\n",
    "import numpy as np\n",
    "import matplotlib.pyplot as plt\n",
    "%matplotlib inline"
   ]
  },
  {
   "cell_type": "code",
   "execution_count": 10,
   "metadata": {},
   "outputs": [],
   "source": [
    "driver = webdriver.Chrome(\"C:/Users/lhj90/chromedriver_win32/chromedriver.exe\")\n",
    "driver.get(\"https://www.instagram.com/accounts/login/\")\n",
    "driver.maximize_window()"
   ]
  },
  {
   "cell_type": "code",
   "execution_count": 11,
   "metadata": {},
   "outputs": [
    {
     "name": "stdout",
     "output_type": "stream",
     "text": [
      "Input ID : ········\n",
      "Input PWD : ········\n",
      "Input HashTag # : #b마트\n"
     ]
    }
   ],
   "source": [
    "username = getpass.getpass(\"Input ID : \")# User ID\n",
    "password = getpass.getpass(\"Input PWD : \")# User PWD, 특히 getpass를 통해서 비밀번호 정보를 숨길 수도 있다. 잘 배워두자 \n",
    "hashTag = input(\"Input HashTag # : \")# Search #\n",
    " \n",
    "element_id = driver.find_element_by_name(\"username\")\n",
    "element_id.send_keys(username)\n",
    "element_password = driver.find_element_by_name(\"password\")\n",
    "element_password.send_keys(password)\n",
    " \n",
    "sleep(1.5)\n"
   ]
  },
  {
   "cell_type": "code",
   "execution_count": 12,
   "metadata": {},
   "outputs": [],
   "source": [
    "##로그인버튼 클릭\n",
    "driver.find_element_by_css_selector('.sqdOP.L3NKy.y3zKF').click()"
   ]
  },
  {
   "cell_type": "code",
   "execution_count": 13,
   "metadata": {},
   "outputs": [],
   "source": [
    "### 정보저장 나중에 하기 클릭\n",
    "driver.find_element_by_css_selector('.sqdOP.yWX7d.y3zKF').click()"
   ]
  },
  {
   "cell_type": "code",
   "execution_count": 14,
   "metadata": {},
   "outputs": [],
   "source": [
    "### 알림설정 나중에 하기 클릭\n",
    "driver.find_element_by_css_selector('.aOOlW.HoLwm').click()"
   ]
  },
  {
   "cell_type": "code",
   "execution_count": 26,
   "metadata": {},
   "outputs": [],
   "source": [
    "# instagram 태그검색 url패턴:  www.instagram.com/explore/tags/\"검색하고자 하는 패턴\"\n",
    "# url 함수만들기\n",
    "\n",
    "def instatag_searching(tag):\n",
    "    url= \"https://www.instagram.com/explore/tags/\" + tag\n",
    "    return url"
   ]
  },
  {
   "cell_type": "code",
   "execution_count": 27,
   "metadata": {},
   "outputs": [],
   "source": [
    "# 검색 단어 설정\n",
    "tag = \"b마트\"  #유사단어: 비마트"
   ]
  },
  {
   "cell_type": "code",
   "execution_count": 28,
   "metadata": {},
   "outputs": [],
   "source": [
    "# 검색하기\n",
    "url = instatag_searching(tag)\n",
    "driver.get(url)"
   ]
  },
  {
   "cell_type": "code",
   "execution_count": 29,
   "metadata": {},
   "outputs": [],
   "source": [
    "##데이터를 저장할 Dictionary\n",
    "insta_dict = {'id':[],\n",
    "              'date': [],\n",
    "              'like': [],\n",
    "              'text': [],\n",
    "              'hashtag':[]}"
   ]
  },
  {
   "cell_type": "code",
   "execution_count": 30,
   "metadata": {},
   "outputs": [],
   "source": [
    "##첫 번째 게시물 클릭 \n",
    "first_post = driver.find_element_by_class_name('eLAPa')\n",
    "first_post.click()"
   ]
  },
  {
   "cell_type": "code",
   "execution_count": 31,
   "metadata": {},
   "outputs": [
    {
     "name": "stdout",
     "output_type": "stream",
     "text": [
      "0번째 수집 중\t0.05409407615661621\n"
     ]
    }
   ],
   "source": [
    "seq = 0\n",
    "start = time.time()\n",
    " \n",
    "while True:\n",
    "    try:\n",
    "        if driver.find_element_by_css_selector('a._65Bje.coreSpriteRightPaginationArrow'):\n",
    "            if seq % 20 == 0:\n",
    "                print('{}번째 수집 중'.format(seq), time.time() - start, sep = '\\t')\n",
    " \n",
    " \n",
    " \n",
    "            ## id 정보 수집\n",
    "            try:\n",
    "                info_id = driver.find_element_by_css_selector('h2._6lAjh').text\n",
    "                insta_dict['id'].append(info_id)\n",
    "            except:\n",
    "                info_id = driver.find_element_by_css_selector('div.C4VMK').text.split()[0]\n",
    "                insta_dict['id'].append(info_id)\n",
    " \n",
    " \n",
    "            ## 시간정보 수집 \n",
    "            time_raw = driver.find_element_by_css_selector('time.FH9sR.Nzb55')\n",
    "            time_info = pd.to_datetime(time_raw.get_attribute('datetime')).normalize()\n",
    "            insta_dict['date'].append(time_info)\n",
    " \n",
    "            ## like 정보 수집\n",
    "            try:\n",
    "                driver.find_element_by_css_selector('button.sqdOP.yWX7d._8A5w5')\n",
    "                like = driver.find_element_by_css_selector('button.sqdOP.yWX7d._8A5w5').text\n",
    "                insta_dict['like'].append(like)\n",
    " \n",
    "            except:\n",
    "                insta_dict['like'].append('영상')\n",
    " \n",
    " \n",
    " \n",
    "            ##text 정보수집\n",
    "            raw_info = driver.find_element_by_css_selector('div.C4VMK').text.split()\n",
    "            text = []\n",
    "            for i in range(len(raw_info)):\n",
    "                ## 첫번째 text는 아이디니까 제외 \n",
    "                if i == 0:\n",
    "                    pass\n",
    "                ## 두번째부터 시작 \n",
    "                else:\n",
    "                    if '#' in raw_info[i]:\n",
    "                        pass\n",
    "                    else:\n",
    "                        text.append(raw_info[i])\n",
    "            clean_text = ' '.join(text)\n",
    "            insta_dict['text'].append(clean_text)\n",
    " \n",
    "            ##hashtag 수집\n",
    "            raw_tags = driver.find_elements_by_css_selector('a.xil3i')\n",
    "            hash_tag = []\n",
    "            for i in range(len(raw_tags)):\n",
    "                if raw_tags[i].text == '':\n",
    "                    pass\n",
    "                else:\n",
    "                    hash_tag.append(raw_tags[i].text)\n",
    " \n",
    "            insta_dict['hashtag'].append(hash_tag)\n",
    " \n",
    "            seq += 1\n",
    "    \n",
    "            # 10개만 일단 수집해보자\n",
    "            if seq == 10:\n",
    "                break\n",
    " \n",
    "            driver.find_element_by_css_selector('a._65Bje.coreSpriteRightPaginationArrow').click()\n",
    "            time.sleep(1.5)\n",
    "            \n",
    " \n",
    "        else:\n",
    "            break\n",
    "            \n",
    "    except:\n",
    "        driver.find_element_by_css_selector('a._65Bje.coreSpriteRightPaginationArrow').click()\n",
    "        time.sleep(2)"
   ]
  },
  {
   "cell_type": "code",
   "execution_count": 32,
   "metadata": {},
   "outputs": [
    {
     "data": {
      "text/html": [
       "<div>\n",
       "<style scoped>\n",
       "    .dataframe tbody tr th:only-of-type {\n",
       "        vertical-align: middle;\n",
       "    }\n",
       "\n",
       "    .dataframe tbody tr th {\n",
       "        vertical-align: top;\n",
       "    }\n",
       "\n",
       "    .dataframe thead th {\n",
       "        text-align: right;\n",
       "    }\n",
       "</style>\n",
       "<table border=\"1\" class=\"dataframe\">\n",
       "  <thead>\n",
       "    <tr style=\"text-align: right;\">\n",
       "      <th></th>\n",
       "      <th>id</th>\n",
       "      <th>date</th>\n",
       "      <th>like</th>\n",
       "      <th>text</th>\n",
       "      <th>hashtag</th>\n",
       "    </tr>\n",
       "  </thead>\n",
       "  <tbody>\n",
       "    <tr>\n",
       "      <th>0</th>\n",
       "      <td>skinnypig.creamery</td>\n",
       "      <td>2020-07-22 00:00:00+00:00</td>\n",
       "      <td>영상</td>\n",
       "      <td>이제 스피가 먹고 싶을 때, B마트에서 한 개만 주문해도 지금 나우 바로 즉시 도착...</td>\n",
       "      <td>[#B마트, #이벤트, #태그이벤트, #개이득, #개이득, #참여완료, #개이득]</td>\n",
       "    </tr>\n",
       "    <tr>\n",
       "      <th>1</th>\n",
       "      <td>eyesmag</td>\n",
       "      <td>2020-08-24 00:00:00+00:00</td>\n",
       "      <td>영상</td>\n",
       "      <td>삼양(@samyangfoods)과 배달의 민족(@baemin_official)이 손...</td>\n",
       "      <td>[#eyesmag, #samyang, #buldak, #baemin, #bmart,...</td>\n",
       "    </tr>\n",
       "    <tr>\n",
       "      <th>2</th>\n",
       "      <td>blogger_nanal</td>\n",
       "      <td>2020-12-16 00:00:00+00:00</td>\n",
       "      <td>영상</td>\n",
       "      <td>@romandyou 🥘 저 떡볶이 안 시켰는데요 🤣 와...</td>\n",
       "      <td>[#제품제공, #롬앤, #롬앤X배민, #립볶ᄋ...</td>\n",
       "    </tr>\n",
       "    <tr>\n",
       "      <th>3</th>\n",
       "      <td>convee4</td>\n",
       "      <td>2020-10-10 00:00:00+00:00</td>\n",
       "      <td>영상</td>\n",
       "      <td>대만에서 우유 튀김 드셔보신 분 손!!! 저는 발 들겠습니다. 이유는 모르겠지만 대...</td>\n",
       "      <td>[#편선생_직접먹어봄, #편선생, #B마트, #비마트, #사옹원, #우유튀김, #사...</td>\n",
       "    </tr>\n",
       "    <tr>\n",
       "      <th>4</th>\n",
       "      <td>sweetbalance_kr</td>\n",
       "      <td>2020-06-16 00:00:00+00:00</td>\n",
       "      <td>영상</td>\n",
       "      <td>:: 초소량 번쩍배달 ⚡🛵 B마트 입점! 드디어...</td>\n",
       "      <td>[#스윗밸런스, #B마트, #하나만사도, #바로추...</td>\n",
       "    </tr>\n",
       "    <tr>\n",
       "      <th>5</th>\n",
       "      <td>panhonesta</td>\n",
       "      <td>2020-12-21 00:00:00+00:00</td>\n",
       "      <td>영상</td>\n",
       "      <td>&lt; X &gt; 여러분! 빵어니스타 타르트가 B마트에 이...</td>\n",
       "      <td>[#B마트, #빵어니스타]</td>\n",
       "    </tr>\n",
       "    <tr>\n",
       "      <th>6</th>\n",
       "      <td>panhonesta</td>\n",
       "      <td>2021-03-08 00:00:00+00:00</td>\n",
       "      <td>영상</td>\n",
       "      <td>&lt; X &gt; 안녕하세요 여러분🙋🏻‍♀️ 월요일부터 기쁜 소식을 전해드리러 왔어요 :)...</td>\n",
       "      <td>[#B마트, #빵어니스타]</td>\n",
       "    </tr>\n",
       "    <tr>\n",
       "      <th>7</th>\n",
       "      <td>eats_better</td>\n",
       "      <td>2020-11-02 00:00:00+00:00</td>\n",
       "      <td>영상</td>\n",
       "      <td>이제 2종! 과 를 주문하면 바로 오는 B마트ᄋ...</td>\n",
       "      <td>[#잇츠베러뉴스, #배달의민족, #B마트, #잇ᄎ...</td>\n",
       "    </tr>\n",
       "    <tr>\n",
       "      <th>8</th>\n",
       "      <td>po___ong</td>\n",
       "      <td>2020-12-16 00:00:00+00:00</td>\n",
       "      <td>영상</td>\n",
       "      <td>여러분들의 성원에 힘입어 포옹이 배민 B ᄆ...</td>\n",
       "      <td>[#배민, #B마트, #생식선생, #테리셔스]</td>\n",
       "    </tr>\n",
       "    <tr>\n",
       "      <th>9</th>\n",
       "      <td>dear.yiseo</td>\n",
       "      <td>2020-09-02 00:00:00+00:00</td>\n",
       "      <td>영상</td>\n",
       "      <td>200902 . 2시부터 진짜 진짜 맛있는거 먹고...</td>\n",
       "      <td>[#이서_탄수, #이서_먹빵, #이서_다앤하, #쑤...</td>\n",
       "    </tr>\n",
       "  </tbody>\n",
       "</table>\n",
       "</div>"
      ],
      "text/plain": [
       "                   id                      date like  \\\n",
       "0  skinnypig.creamery 2020-07-22 00:00:00+00:00   영상   \n",
       "1             eyesmag 2020-08-24 00:00:00+00:00   영상   \n",
       "2       blogger_nanal 2020-12-16 00:00:00+00:00   영상   \n",
       "3             convee4 2020-10-10 00:00:00+00:00   영상   \n",
       "4     sweetbalance_kr 2020-06-16 00:00:00+00:00   영상   \n",
       "5          panhonesta 2020-12-21 00:00:00+00:00   영상   \n",
       "6          panhonesta 2021-03-08 00:00:00+00:00   영상   \n",
       "7         eats_better 2020-11-02 00:00:00+00:00   영상   \n",
       "8            po___ong 2020-12-16 00:00:00+00:00   영상   \n",
       "9          dear.yiseo 2020-09-02 00:00:00+00:00   영상   \n",
       "\n",
       "                                                text  \\\n",
       "0  이제 스피가 먹고 싶을 때, B마트에서 한 개만 주문해도 지금 나우 바로 즉시 도착...   \n",
       "1  삼양(@samyangfoods)과 배달의 민족(@baemin_official)이 손...   \n",
       "2  @romandyou 🥘 저 떡볶이 안 시켰는데요 🤣 와...   \n",
       "3  대만에서 우유 튀김 드셔보신 분 손!!! 저는 발 들겠습니다. 이유는 모르겠지만 대...   \n",
       "4  :: 초소량 번쩍배달 ⚡🛵 B마트 입점! 드디어...   \n",
       "5  < X > 여러분! 빵어니스타 타르트가 B마트에 이...   \n",
       "6  < X > 안녕하세요 여러분🙋🏻‍♀️ 월요일부터 기쁜 소식을 전해드리러 왔어요 :)...   \n",
       "7  이제 2종! 과 를 주문하면 바로 오는 B마트ᄋ...   \n",
       "8  여러분들의 성원에 힘입어 포옹이 배민 B ᄆ...   \n",
       "9  200902 . 2시부터 진짜 진짜 맛있는거 먹고...   \n",
       "\n",
       "                                             hashtag  \n",
       "0      [#B마트, #이벤트, #태그이벤트, #개이득, #개이득, #참여완료, #개이득]  \n",
       "1  [#eyesmag, #samyang, #buldak, #baemin, #bmart,...  \n",
       "2  [#제품제공, #롬앤, #롬앤X배민, #립볶ᄋ...  \n",
       "3  [#편선생_직접먹어봄, #편선생, #B마트, #비마트, #사옹원, #우유튀김, #사...  \n",
       "4  [#스윗밸런스, #B마트, #하나만사도, #바로추...  \n",
       "5                             [#B마트, #빵어니스타]  \n",
       "6                             [#B마트, #빵어니스타]  \n",
       "7  [#잇츠베러뉴스, #배달의민족, #B마트, #잇ᄎ...  \n",
       "8         [#배민, #B마트, #생식선생, #테리셔스]  \n",
       "9  [#이서_탄수, #이서_먹빵, #이서_다앤하, #쑤...  "
      ]
     },
     "execution_count": 32,
     "metadata": {},
     "output_type": "execute_result"
    }
   ],
   "source": [
    "# Data Frame형태로 보기\n",
    "test = pd.DataFrame.from_dict(insta_dict)\n",
    "test"
   ]
  },
  {
   "cell_type": "code",
   "execution_count": null,
   "metadata": {},
   "outputs": [],
   "source": []
  }
 ],
 "metadata": {
  "kernelspec": {
   "display_name": "Python 3",
   "language": "python",
   "name": "python3"
  },
  "toc": {
   "base_numbering": 1,
   "nav_menu": {},
   "number_sections": true,
   "sideBar": true,
   "skip_h1_title": false,
   "title_cell": "Table of Contents",
   "title_sidebar": "Contents",
   "toc_cell": false,
   "toc_position": {},
   "toc_section_display": true,
   "toc_window_display": false
  }
 },
 "nbformat": 4,
 "nbformat_minor": 5
}
